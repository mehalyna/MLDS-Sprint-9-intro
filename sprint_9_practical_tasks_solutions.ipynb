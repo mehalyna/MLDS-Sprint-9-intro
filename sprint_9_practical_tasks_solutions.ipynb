{
 "cells": [
  {
   "cell_type": "markdown",
   "id": "dc86025a",
   "metadata": {},
   "source": [
    "# Solutions: Web Data Collection and Parsing Tasks\n",
    "This notebook provides example solutions for the 10 practical tasks."
   ]
  },
  {
   "cell_type": "markdown",
   "id": "498ec22f",
   "metadata": {},
   "source": [
    "## Task 1: Fetch and Parse HTML Title"
   ]
  },
  {
   "cell_type": "code",
   "execution_count": 1,
   "id": "e1f3dd29",
   "metadata": {},
   "outputs": [
    {
     "name": "stdout",
     "output_type": "stream",
     "text": [
      "Page Title: Example Domain\n"
     ]
    }
   ],
   "source": [
    "import requests\n",
    "from bs4 import BeautifulSoup\n",
    "\n",
    "url = \"https://example.com\"\n",
    "response = requests.get(url)\n",
    "soup = BeautifulSoup(response.text, \"html.parser\")\n",
    "title = soup.title.string\n",
    "print(\"Page Title:\", title)"
   ]
  },
  {
   "cell_type": "markdown",
   "id": "fcfbee05",
   "metadata": {},
   "source": [
    "## Task 2: Scrape Quotes with BeautifulSoup"
   ]
  },
  {
   "cell_type": "code",
   "execution_count": 2,
   "id": "aa7b3bc4",
   "metadata": {},
   "outputs": [
    {
     "name": "stdout",
     "output_type": "stream",
     "text": [
      "[{'quote': '“The world as we have created it is a process of our thinking. It cannot be changed without changing our thinking.”', 'author': 'Albert Einstein'}, {'quote': '“It is our choices, Harry, that show what we truly are, far more than our abilities.”', 'author': 'J.K. Rowling'}, {'quote': '“There are only two ways to live your life. One is as though nothing is a miracle. The other is as though everything is a miracle.”', 'author': 'Albert Einstein'}, {'quote': '“The person, be it gentleman or lady, who has not pleasure in a good novel, must be intolerably stupid.”', 'author': 'Jane Austen'}, {'quote': \"“Imperfection is beauty, madness is genius and it's better to be absolutely ridiculous than absolutely boring.”\", 'author': 'Marilyn Monroe'}, {'quote': '“Try not to become a man of success. Rather become a man of value.”', 'author': 'Albert Einstein'}, {'quote': '“It is better to be hated for what you are than to be loved for what you are not.”', 'author': 'André Gide'}, {'quote': \"“I have not failed. I've just found 10,000 ways that won't work.”\", 'author': 'Thomas A. Edison'}, {'quote': \"“A woman is like a tea bag; you never know how strong it is until it's in hot water.”\", 'author': 'Eleanor Roosevelt'}, {'quote': '“A day without sunshine is like, you know, night.”', 'author': 'Steve Martin'}]\n"
     ]
    }
   ],
   "source": [
    "import requests\n",
    "from bs4 import BeautifulSoup\n",
    "\n",
    "url = \"http://quotes.toscrape.com\"\n",
    "response = requests.get(url)\n",
    "soup = BeautifulSoup(response.text, \"html.parser\")\n",
    "quotes = []\n",
    "for quote_block in soup.select(\"div.quote\"):\n",
    "    text = quote_block.find(\"span\", class_=\"text\").get_text(strip=True)\n",
    "    author = quote_block.find(\"small\", class_=\"author\").get_text(strip=True)\n",
    "    quotes.append({\"quote\": text, \"author\": author})\n",
    "print(quotes)"
   ]
  },
  {
   "cell_type": "markdown",
   "id": "46cdd7dd",
   "metadata": {},
   "source": [
    "## Task 3: Read and Filter CSV Data"
   ]
  },
  {
   "cell_type": "code",
   "execution_count": 5,
   "id": "88a01ca5",
   "metadata": {},
   "outputs": [
    {
     "name": "stdout",
     "output_type": "stream",
     "text": [
      "{'id': '1', 'name': 'Wireless Mouse', 'price': '25.99', 'category': 'Electronics'}\n",
      "{'id': '7', 'name': 'Bluetooth Speaker', 'price': '45.0', 'category': 'Electronics'}\n",
      "{'id': '8', 'name': 'Desk Lamp', 'price': '29.95', 'category': 'Home'}\n",
      "{'id': '9', 'name': 'Backpack', 'price': '49.99', 'category': 'Accessories'}\n"
     ]
    }
   ],
   "source": [
    "import csv\n",
    "\n",
    "with open(\"products.csv\", newline='', encoding='utf-8') as csvfile:\n",
    "    reader = csv.DictReader(csvfile)\n",
    "    filtered = [row for row in reader if float(row[\"price\"]) > 20.0]\n",
    "    for product in filtered:\n",
    "        print(product)"
   ]
  },
  {
   "cell_type": "markdown",
   "id": "eeb5aeba",
   "metadata": {},
   "source": [
    "## Task 4: Convert CSV to JSON"
   ]
  },
  {
   "cell_type": "code",
   "execution_count": 6,
   "id": "86db0eaf",
   "metadata": {},
   "outputs": [],
   "source": [
    "import csv\n",
    "import json\n",
    "\n",
    "products = []\n",
    "with open(\"products.csv\", newline='', encoding='utf-8') as csvfile:\n",
    "    reader = csv.DictReader(csvfile)\n",
    "    for row in reader:\n",
    "        row[\"price\"] = float(row[\"price\"])\n",
    "        products.append(row)\n",
    "\n",
    "with open(\"products.json\", \"w\", encoding='utf-8') as jsonfile:\n",
    "    json.dump(products, jsonfile, indent=2)"
   ]
  },
  {
   "cell_type": "markdown",
   "id": "54a49baf",
   "metadata": {},
   "source": [
    "## Task 5: Parse JSON and Extract Nested Fields"
   ]
  },
  {
   "cell_type": "code",
   "execution_count": 7,
   "id": "ed7111a2",
   "metadata": {},
   "outputs": [
    {
     "name": "stdout",
     "output_type": "stream",
     "text": [
      "['alice.johnson@example.com', 'bob.smith@example.com', 'carol.davis@example.com', 'david.lee@example.com', 'eva.green@example.com']\n"
     ]
    }
   ],
   "source": [
    "import json\n",
    "\n",
    "with open(\"data.json\", encoding='utf-8') as f:\n",
    "    data = json.load(f)\n",
    "\n",
    "emails = []\n",
    "for item in data:\n",
    "    email = item.get(\"user\", {}).get(\"profile\", {}).get(\"email\")\n",
    "    if email:\n",
    "        emails.append(email)\n",
    "\n",
    "print(emails)"
   ]
  },
  {
   "cell_type": "markdown",
   "id": "128296c3",
   "metadata": {},
   "source": [
    "## Task 6: Read and Convert XML to Dictionary"
   ]
  },
  {
   "cell_type": "code",
   "execution_count": 8,
   "id": "4e97e592",
   "metadata": {},
   "outputs": [
    {
     "name": "stdout",
     "output_type": "stream",
     "text": [
      "{'records': {'record': {'id': '5', 'name': 'Eva Green', 'email': 'eva.green@example.com'}}}\n"
     ]
    }
   ],
   "source": [
    "import xml.etree.ElementTree as ET\n",
    "from collections import defaultdict\n",
    "\n",
    "def xml_to_dict(elem):\n",
    "    d = {}\n",
    "    for child in elem:\n",
    "        if list(child):\n",
    "            d[child.tag] = xml_to_dict(child)\n",
    "        else:\n",
    "            d[child.tag] = child.text\n",
    "    return d\n",
    "\n",
    "tree = ET.parse(\"records.xml\")\n",
    "root = tree.getroot()\n",
    "result = {root.tag: xml_to_dict(root)}\n",
    "print(result)"
   ]
  },
  {
   "cell_type": "markdown",
   "id": "d5c603b0",
   "metadata": {},
   "source": [
    "## Task 7: Extract Emails with Regular Expressions"
   ]
  },
  {
   "cell_type": "code",
   "execution_count": 9,
   "id": "1a0a52ce",
   "metadata": {},
   "outputs": [
    {
     "name": "stdout",
     "output_type": "stream",
     "text": [
      "['john.doe@example.com', 'jane_smith123@work-mail.org', 'admin@company.com.', 'contact@support.company.net', 'foo.bar@sub.domain.co.uk']\n"
     ]
    }
   ],
   "source": [
    "import re\n",
    "\n",
    "pattern = r\"[a-zA-Z0-9_.+-]+@[a-zA-Z0-9-]+\\.[a-zA-Z0-9-.]+\"\n",
    "with open(\"emails.txt\", encoding='utf-8') as f:\n",
    "    text = f.read()\n",
    "\n",
    "emails = re.findall(pattern, text)\n",
    "print(emails)"
   ]
  },
  {
   "cell_type": "markdown",
   "id": "38581d3f",
   "metadata": {},
   "source": [
    "## Task 8: Validate Phone Numbers with Regex"
   ]
  },
  {
   "cell_type": "code",
   "execution_count": 10,
   "id": "9f461e89",
   "metadata": {},
   "outputs": [
    {
     "name": "stdout",
     "output_type": "stream",
     "text": [
      "True\n",
      "True\n",
      "False\n"
     ]
    }
   ],
   "source": [
    "import re\n",
    "\n",
    "pattern = re.compile(r\"^(?:\\+1-\\d{3}-\\d{3}-\\d{4}|\\(\\d{3}\\) \\d{3}-\\d{4})$\")\n",
    "\n",
    "def is_valid_phone(number):\n",
    "    return bool(pattern.match(number))\n",
    "\n",
    "# Examples\n",
    "print(is_valid_phone(\"+1-800-555-1234\"))  # True\n",
    "print(is_valid_phone(\"(123) 456-7890\"))   # True\n",
    "print(is_valid_phone(\"123-456-7890\"))     # False"
   ]
  },
  {
   "cell_type": "markdown",
   "id": "cb6a6fd7",
   "metadata": {},
   "source": [
    "## Task 9: Scrape HTML Table and Save to CSV"
   ]
  },
  {
   "cell_type": "code",
   "execution_count": 14,
   "id": "a6da559e",
   "metadata": {},
   "outputs": [],
   "source": [
    "import requests\n",
    "from bs4 import BeautifulSoup\n",
    "import csv\n",
    "\n",
    "url = \"https://www.iana.org/domains/reserved\"\n",
    "response = requests.get(url)\n",
    "soup = BeautifulSoup(response.text, \"html.parser\")\n",
    "\n",
    "table = soup.find(\"table\")\n",
    "headers = [th.get_text(strip=True) for th in table.find_all(\"th\")]\n",
    "\n",
    "rows = []\n",
    "for tr in table.find_all(\"tr\")[1:]:\n",
    "    cols = [td.get_text(strip=True) for td in tr.find_all(\"td\")]\n",
    "    if cols:\n",
    "        rows.append(cols)\n",
    "\n",
    "with open(\"table_data.csv\", \"w\", newline='', encoding='utf-8') as csvfile:\n",
    "    writer = csv.writer(csvfile)\n",
    "    writer.writerow(headers)\n",
    "    writer.writerows(rows)"
   ]
  }
 ],
 "metadata": {
  "kernelspec": {
   "display_name": "Python 3",
   "language": "python",
   "name": "python3"
  },
  "language_info": {
   "codemirror_mode": {
    "name": "ipython",
    "version": 3
   },
   "file_extension": ".py",
   "mimetype": "text/x-python",
   "name": "python",
   "nbconvert_exporter": "python",
   "pygments_lexer": "ipython3",
   "version": "3.11.4"
  }
 },
 "nbformat": 4,
 "nbformat_minor": 5
}
